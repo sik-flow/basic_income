{
 "cells": [
  {
   "cell_type": "code",
   "execution_count": 1,
   "metadata": {
    "collapsed": true
   },
   "outputs": [],
   "source": [
    "import pandas as pd"
   ]
  },
  {
   "cell_type": "code",
   "execution_count": 3,
   "metadata": {
    "collapsed": true
   },
   "outputs": [],
   "source": [
    "df = pd.read_csv('basic_income_dataset_dalia.csv')"
   ]
  },
  {
   "cell_type": "code",
   "execution_count": 4,
   "metadata": {},
   "outputs": [
    {
     "data": {
      "text/html": [
       "<div>\n",
       "<style scoped>\n",
       "    .dataframe tbody tr th:only-of-type {\n",
       "        vertical-align: middle;\n",
       "    }\n",
       "\n",
       "    .dataframe tbody tr th {\n",
       "        vertical-align: top;\n",
       "    }\n",
       "\n",
       "    .dataframe thead th {\n",
       "        text-align: right;\n",
       "    }\n",
       "</style>\n",
       "<table border=\"1\" class=\"dataframe\">\n",
       "  <thead>\n",
       "    <tr style=\"text-align: right;\">\n",
       "      <th></th>\n",
       "      <th>country_code</th>\n",
       "      <th>uuid</th>\n",
       "      <th>age</th>\n",
       "      <th>gender</th>\n",
       "      <th>rural</th>\n",
       "      <th>dem_education_level</th>\n",
       "      <th>dem_full_time_job</th>\n",
       "      <th>dem_has_children</th>\n",
       "      <th>question_bbi_2016wave4_basicincome_awareness</th>\n",
       "      <th>question_bbi_2016wave4_basicincome_vote</th>\n",
       "      <th>question_bbi_2016wave4_basicincome_effect</th>\n",
       "      <th>question_bbi_2016wave4_basicincome_argumentsfor</th>\n",
       "      <th>question_bbi_2016wave4_basicincome_argumentsagainst</th>\n",
       "      <th>age_group</th>\n",
       "      <th>weight</th>\n",
       "    </tr>\n",
       "  </thead>\n",
       "  <tbody>\n",
       "    <tr>\n",
       "      <th>0</th>\n",
       "      <td>AT</td>\n",
       "      <td>f6e7ee00-deac-0133-4de8-0a81e8b09a82</td>\n",
       "      <td>61</td>\n",
       "      <td>male</td>\n",
       "      <td>rural</td>\n",
       "      <td>no</td>\n",
       "      <td>no</td>\n",
       "      <td>no</td>\n",
       "      <td>I know something about it</td>\n",
       "      <td>I would not vote</td>\n",
       "      <td>None of the above</td>\n",
       "      <td>None of the above</td>\n",
       "      <td>None of the above</td>\n",
       "      <td>40_65</td>\n",
       "      <td>1.105.534.474</td>\n",
       "    </tr>\n",
       "    <tr>\n",
       "      <th>1</th>\n",
       "      <td>AT</td>\n",
       "      <td>54f0f1c0-dda1-0133-a559-0a81e8b09a82</td>\n",
       "      <td>57</td>\n",
       "      <td>male</td>\n",
       "      <td>urban</td>\n",
       "      <td>high</td>\n",
       "      <td>yes</td>\n",
       "      <td>yes</td>\n",
       "      <td>I understand it fully</td>\n",
       "      <td>I would probably vote for it</td>\n",
       "      <td>A basic income would not affect my work choices</td>\n",
       "      <td>It increases appreciation for household work a...</td>\n",
       "      <td>It might encourage people to stop working</td>\n",
       "      <td>40_65</td>\n",
       "      <td>1.533.248.826</td>\n",
       "    </tr>\n",
       "    <tr>\n",
       "      <th>2</th>\n",
       "      <td>AT</td>\n",
       "      <td>83127080-da3d-0133-c74f-0a81e8b09a82</td>\n",
       "      <td>32</td>\n",
       "      <td>male</td>\n",
       "      <td>urban</td>\n",
       "      <td>NaN</td>\n",
       "      <td>no</td>\n",
       "      <td>no</td>\n",
       "      <td>I have heard just a little about it</td>\n",
       "      <td>I would not vote</td>\n",
       "      <td>‰Û_ gain additional skills</td>\n",
       "      <td>It creates more equality of opportunity</td>\n",
       "      <td>Foreigners might come to my country and take a...</td>\n",
       "      <td>26_39</td>\n",
       "      <td>0.977591916</td>\n",
       "    </tr>\n",
       "    <tr>\n",
       "      <th>3</th>\n",
       "      <td>AT</td>\n",
       "      <td>15626d40-db13-0133-ea5c-0a81e8b09a82</td>\n",
       "      <td>45</td>\n",
       "      <td>male</td>\n",
       "      <td>rural</td>\n",
       "      <td>high</td>\n",
       "      <td>yes</td>\n",
       "      <td>yes</td>\n",
       "      <td>I have heard just a little about it</td>\n",
       "      <td>I would probably vote for it</td>\n",
       "      <td>‰Û_ work less</td>\n",
       "      <td>It reduces anxiety about financing basic needs</td>\n",
       "      <td>None of the above</td>\n",
       "      <td>40_65</td>\n",
       "      <td>1.105.534.474</td>\n",
       "    </tr>\n",
       "    <tr>\n",
       "      <th>4</th>\n",
       "      <td>AT</td>\n",
       "      <td>24954a70-db98-0133-4a64-0a81e8b09a82</td>\n",
       "      <td>41</td>\n",
       "      <td>female</td>\n",
       "      <td>urban</td>\n",
       "      <td>high</td>\n",
       "      <td>yes</td>\n",
       "      <td>yes</td>\n",
       "      <td>I have heard just a little about it</td>\n",
       "      <td>I would probably vote for it</td>\n",
       "      <td>None of the above</td>\n",
       "      <td>It reduces anxiety about financing basic needs</td>\n",
       "      <td>It is impossible to finance | It might encoura...</td>\n",
       "      <td>40_65</td>\n",
       "      <td>58.731.136</td>\n",
       "    </tr>\n",
       "  </tbody>\n",
       "</table>\n",
       "</div>"
      ],
      "text/plain": [
       "  country_code                                  uuid  age  gender  rural  \\\n",
       "0           AT  f6e7ee00-deac-0133-4de8-0a81e8b09a82   61    male  rural   \n",
       "1           AT  54f0f1c0-dda1-0133-a559-0a81e8b09a82   57    male  urban   \n",
       "2           AT  83127080-da3d-0133-c74f-0a81e8b09a82   32    male  urban   \n",
       "3           AT  15626d40-db13-0133-ea5c-0a81e8b09a82   45    male  rural   \n",
       "4           AT  24954a70-db98-0133-4a64-0a81e8b09a82   41  female  urban   \n",
       "\n",
       "  dem_education_level dem_full_time_job dem_has_children  \\\n",
       "0                  no                no               no   \n",
       "1                high               yes              yes   \n",
       "2                 NaN                no               no   \n",
       "3                high               yes              yes   \n",
       "4                high               yes              yes   \n",
       "\n",
       "  question_bbi_2016wave4_basicincome_awareness  \\\n",
       "0                    I know something about it   \n",
       "1                        I understand it fully   \n",
       "2          I have heard just a little about it   \n",
       "3          I have heard just a little about it   \n",
       "4          I have heard just a little about it   \n",
       "\n",
       "  question_bbi_2016wave4_basicincome_vote  \\\n",
       "0                        I would not vote   \n",
       "1            I would probably vote for it   \n",
       "2                        I would not vote   \n",
       "3            I would probably vote for it   \n",
       "4            I would probably vote for it   \n",
       "\n",
       "         question_bbi_2016wave4_basicincome_effect  \\\n",
       "0                                None of the above   \n",
       "1  A basic income would not affect my work choices   \n",
       "2                       ‰Û_ gain additional skills   \n",
       "3                                    ‰Û_ work less   \n",
       "4                                None of the above   \n",
       "\n",
       "     question_bbi_2016wave4_basicincome_argumentsfor  \\\n",
       "0                                  None of the above   \n",
       "1  It increases appreciation for household work a...   \n",
       "2            It creates more equality of opportunity   \n",
       "3     It reduces anxiety about financing basic needs   \n",
       "4     It reduces anxiety about financing basic needs   \n",
       "\n",
       "  question_bbi_2016wave4_basicincome_argumentsagainst age_group         weight  \n",
       "0                                  None of the above      40_65  1.105.534.474  \n",
       "1          It might encourage people to stop working      40_65  1.533.248.826  \n",
       "2  Foreigners might come to my country and take a...      26_39    0.977591916  \n",
       "3                                  None of the above      40_65  1.105.534.474  \n",
       "4  It is impossible to finance | It might encoura...      40_65     58.731.136  "
      ]
     },
     "execution_count": 4,
     "metadata": {},
     "output_type": "execute_result"
    }
   ],
   "source": [
    "df.head()"
   ]
  },
  {
   "cell_type": "code",
   "execution_count": 5,
   "metadata": {},
   "outputs": [
    {
     "data": {
      "text/plain": [
       "array(['I would not vote', 'I would probably vote for it',\n",
       "       'I would vote against it', 'I would vote for it',\n",
       "       'I would probably vote against it'], dtype=object)"
      ]
     },
     "execution_count": 5,
     "metadata": {},
     "output_type": "execute_result"
    }
   ],
   "source": [
    "df['question_bbi_2016wave4_basicincome_vote'].unique()"
   ]
  },
  {
   "cell_type": "code",
   "execution_count": 6,
   "metadata": {
    "collapsed": true
   },
   "outputs": [],
   "source": [
    "# make new column with vote or not for it\n",
    "\n",
    "def vote_or_no(result):\n",
    "    if result == 'I would probably vote for it':\n",
    "        return 1\n",
    "    elif result == 'I would vote for it':\n",
    "        return 1\n",
    "    else:\n",
    "        return 0"
   ]
  },
  {
   "cell_type": "code",
   "execution_count": 7,
   "metadata": {
    "collapsed": true
   },
   "outputs": [],
   "source": [
    "df['results'] = df['question_bbi_2016wave4_basicincome_vote'].apply(vote_or_no)"
   ]
  },
  {
   "cell_type": "code",
   "execution_count": 8,
   "metadata": {
    "collapsed": true
   },
   "outputs": [],
   "source": [
    "# remove rows where they would not vote\n",
    "\n",
    "df = df[df['question_bbi_2016wave4_basicincome_vote'] != 'I would not vote']"
   ]
  },
  {
   "cell_type": "code",
   "execution_count": 9,
   "metadata": {},
   "outputs": [
    {
     "data": {
      "text/plain": [
       "1    0.717432\n",
       "0    0.282568\n",
       "Name: results, dtype: float64"
      ]
     },
     "execution_count": 9,
     "metadata": {},
     "output_type": "execute_result"
    }
   ],
   "source": [
    "df['results'].value_counts(normalize = True)"
   ]
  },
  {
   "cell_type": "code",
   "execution_count": 10,
   "metadata": {},
   "outputs": [
    {
     "data": {
      "text/plain": [
       "37.79280906255131"
      ]
     },
     "execution_count": 10,
     "metadata": {},
     "output_type": "execute_result"
    }
   ],
   "source": [
    "# average age of someone that would vote for basic income\n",
    "df[df['results'] == 1]['age'].mean()"
   ]
  },
  {
   "cell_type": "code",
   "execution_count": 11,
   "metadata": {},
   "outputs": [
    {
     "data": {
      "text/plain": [
       "38.997498957899126"
      ]
     },
     "execution_count": 11,
     "metadata": {},
     "output_type": "execute_result"
    }
   ],
   "source": [
    "# average age of someone that would note vote for basic income\n",
    "df[df['results'] == 0]['age'].mean()"
   ]
  },
  {
   "cell_type": "markdown",
   "metadata": {},
   "source": [
    "#### Hypothesis Test\n",
    "- Null Hypothesis: Average age of someone that would vote for basic income == average age of someone that would not vote for basic income\n",
    "- Alternative Hypothesis: Average of some one that would vote for basic income != average of age someone that would not vote for basic income"
   ]
  },
  {
   "cell_type": "code",
   "execution_count": 13,
   "metadata": {
    "collapsed": true
   },
   "outputs": [],
   "source": [
    "import matplotlib.pyplot as plt"
   ]
  },
  {
   "cell_type": "code",
   "execution_count": 14,
   "metadata": {},
   "outputs": [
    {
     "data": {
      "image/png": "[encoded data removed]",
      "text/plain": [
       "<matplotlib.figure.Figure at 0x1123a3240>"
      ]
     },
     "metadata": {},
     "output_type": "display_data"
    }
   ],
   "source": [
    "fig = plt.figure(figsize = (8, 6))\n",
    "\n",
    "ax1 = plt.subplot(121)\n",
    "df[df['results'] == 1]['age'].hist(ax = ax1)\n",
    "ax1.set_title('Vote For')\n",
    "\n",
    "ax2 = plt.subplot(122)\n",
    "df[df['results'] == 0]['age'].hist(ax = ax2)\n",
    "ax2.set_title('Vote Against')\n",
    "\n",
    "plt.show()"
   ]
  },
  {
   "cell_type": "code",
   "execution_count": 15,
   "metadata": {},
   "outputs": [
    {
     "data": {
      "text/plain": [
       "1.2046898953478191"
      ]
     },
     "execution_count": 15,
     "metadata": {},
     "output_type": "execute_result"
    }
   ],
   "source": [
    "# Find the average difference in age\n",
    "original_diff = abs(df[df['results'] == 1]['age'].mean() - df[df['results'] == 0]['age'].mean())\n",
    "original_diff"
   ]
  },
  {
   "cell_type": "code",
   "execution_count": 19,
   "metadata": {},
   "outputs": [
    {
     "data": {
      "text/plain": [
       "4245.0"
      ]
     },
     "execution_count": 19,
     "metadata": {},
     "output_type": "execute_result"
    }
   ],
   "source": [
    "df.shape[0] / 2"
   ]
  },
  {
   "cell_type": "code",
   "execution_count": 17,
   "metadata": {
    "collapsed": true
   },
   "outputs": [],
   "source": [
    "# Split the data into 2 random samples and see what the difference.  Repeat this 10,000 times to see how often the \n",
    "# difference is greater than 1.2 (my original difference)"
   ]
  },
  {
   "cell_type": "code",
   "execution_count": 25,
   "metadata": {
    "collapsed": true
   },
   "outputs": [],
   "source": [
    "import numpy as np"
   ]
  },
  {
   "cell_type": "code",
   "execution_count": 27,
   "metadata": {},
   "outputs": [
    {
     "name": "stdout",
     "output_type": "stream",
     "text": [
      "CPU times: user 15.3 s, sys: 64.4 ms, total: 15.4 s\n",
      "Wall time: 15.4 s\n"
     ]
    }
   ],
   "source": [
    "%%time\n",
    "my_diffs = []\n",
    "\n",
    "for i in range(10000):\n",
    "    sample_a = df['age'].sample(int(df.shape[0]/2))\n",
    "    sample_b = df.drop(sample_a.index)['age']\n",
    "    diff = abs(np.mean(sample_a) - np.mean(sample_b))\n",
    "    my_diffs.append(diff)"
   ]
  },
  {
   "cell_type": "code",
   "execution_count": 28,
   "metadata": {},
   "outputs": [
    {
     "data": {
      "image/png": "[encoded data removed]",
      "text/plain": [
       "<matplotlib.figure.Figure at 0x11741c518>"
      ]
     },
     "metadata": {},
     "output_type": "display_data"
    }
   ],
   "source": [
    "plt.hist(my_diffs)\n",
    "plt.axvline(original_diff, color = 'k', linewidth = 5)\n",
    "plt.show()"
   ]
  },
  {
   "cell_type": "code",
   "execution_count": 29,
   "metadata": {
    "collapsed": true
   },
   "outputs": [],
   "source": [
    "my_count = 0\n",
    "for indv_diff in my_diffs:\n",
    "    if indv_diff > original_diff:\n",
    "        my_count += 1"
   ]
  },
  {
   "cell_type": "code",
   "execution_count": 30,
   "metadata": {},
   "outputs": [
    {
     "data": {
      "text/plain": [
       "0.0"
      ]
     },
     "execution_count": 30,
     "metadata": {},
     "output_type": "execute_result"
    }
   ],
   "source": [
    "my_count / len(my_diffs)"
   ]
  },
  {
   "cell_type": "markdown",
   "metadata": {},
   "source": [
    "Compare versus results from t-test"
   ]
  },
  {
   "cell_type": "code",
   "execution_count": 31,
   "metadata": {
    "collapsed": true
   },
   "outputs": [],
   "source": [
    "from scipy.stats import ttest_ind"
   ]
  },
  {
   "cell_type": "code",
   "execution_count": 34,
   "metadata": {},
   "outputs": [
    {
     "data": {
      "text/plain": [
       "Ttest_indResult(statistic=-4.120671098427173, pvalue=3.813610788898163e-05)"
      ]
     },
     "execution_count": 34,
     "metadata": {},
     "output_type": "execute_result"
    }
   ],
   "source": [
    "ttest_ind(df[df['results'] == 1]['age'], df[df['results'] == 0]['age'])"
   ]
  },
  {
   "cell_type": "markdown",
   "metadata": {},
   "source": [
    "Both are statistically significant.  We can reject the null hypothesis and say the average age of someone that voted for basic income is different than someone that voted against basic income. "
   ]
  },
  {
   "cell_type": "code",
   "execution_count": null,
   "metadata": {
    "collapsed": true
   },
   "outputs": [],
   "source": []
  }
 ],
 "metadata": {
  "kernelspec": {
   "display_name": "Python 3",
   "language": "python",
   "name": "python3"
  },
  "language_info": {
   "codemirror_mode": {
    "name": "ipython",
    "version": 3
   },
   "file_extension": ".py",
   "mimetype": "text/x-python",
   "name": "python",
   "nbconvert_exporter": "python",
   "pygments_lexer": "ipython3",
   "version": "3.6.5"
  }
 },
 "nbformat": 4,
 "nbformat_minor": 2
}
